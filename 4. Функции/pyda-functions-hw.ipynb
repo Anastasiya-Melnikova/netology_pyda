{
 "cells": [
  {
   "cell_type": "markdown",
   "metadata": {},
   "source": [
    "## Задание 1"
   ]
  },
  {
   "cell_type": "markdown",
   "metadata": {},
   "source": [
    "Дан список вида:"
   ]
  },
  {
   "cell_type": "code",
   "execution_count": 3,
   "metadata": {},
   "outputs": [],
   "source": [
    "data = [\n",
    "    [13, 25, 23, 34],\n",
    "    [45, 32, 44, 47],\n",
    "    [12, 33, 23, 95],\n",
    "    [13, 53, 34, 35]\n",
    "]"
   ]
  },
  {
   "cell_type": "markdown",
   "metadata": {},
   "source": [
    "Напишите функцию, которая возвращает сумму элементов на диагонали. Т. е. 13+32+23+35.  \n",
    "Список может быть любой длины, но всегда является \"квадратным\" (количество элементов во вложенных списках равно их количеству)."
   ]
  },
  {
   "cell_type": "code",
   "execution_count": 4,
   "metadata": {},
   "outputs": [
    {
     "name": "stdout",
     "output_type": "stream",
     "text": [
      "103\n"
     ]
    }
   ],
   "source": [
    "def sum_elements (data_list):\n",
    "    i, sum_el = 0, 0\n",
    "    for strings in data_list:\n",
    "        sum_el += strings[i]\n",
    "        i += 1\n",
    "    return sum_el\n",
    "print(sum_elements (data))\n",
    "        \n",
    "        "
   ]
  },
  {
   "cell_type": "markdown",
   "metadata": {},
   "source": [
    "## Задание 2"
   ]
  },
  {
   "cell_type": "markdown",
   "metadata": {},
   "source": [
    "Напишите функцию, возвращающую сумму первых n чисел Фибоначчи (для этого вам может понадобится ознакомиться с рекурсией)."
   ]
  },
  {
   "cell_type": "code",
   "execution_count": 5,
   "metadata": {},
   "outputs": [
    {
     "name": "stdout",
     "output_type": "stream",
     "text": [
      "Введите значение n: 10\n",
      "88\n"
     ]
    }
   ],
   "source": [
    "def fibonachchi (n):\n",
    "    number_fibonachchi = [0, 1] #заносим в список два первых числа\n",
    "    number_of_element = 2 #вычислять элементы начинаем с 3го числа\n",
    "    if n > 2:\n",
    "        while number_of_element < n:\n",
    "            number_fibonachchi.append(number_fibonachchi[number_of_element - 2] + number_fibonachchi[number_of_element - 1])\n",
    "            number_of_element += 1\n",
    "    elif n == 0 or n == 1:\n",
    "        number_fibonachchi = [0]\n",
    "    return sum(number_fibonachchi)\n",
    "print(fibonachchi (int(input('Введите значение n: '))))\n",
    "        \n",
    "        "
   ]
  },
  {
   "cell_type": "markdown",
   "metadata": {},
   "source": [
    "## Задание 3\n"
   ]
  },
  {
   "cell_type": "markdown",
   "metadata": {},
   "source": [
    "Напишите функцию, преобразующую произвольный список вида ['2018-01-01', 'yandex', 'cpc', 100] (он может быть любой длины) в словарь {'2018-01-01': {'yandex': {'cpc': 100}}}"
   ]
  },
  {
   "cell_type": "code",
   "execution_count": 2,
   "metadata": {},
   "outputs": [],
   "source": [
    "original_list = ['2018-01-01', 'yandex', 'cpc', 100]"
   ]
  },
  {
   "cell_type": "code",
   "execution_count": 3,
   "metadata": {},
   "outputs": [
    {
     "name": "stdout",
     "output_type": "stream",
     "text": [
      "{'2018-01-01': {'yandex': {'cpc': 100}}}\n"
     ]
    }
   ],
   "source": [
    "def converter_to_dict (list_view):\n",
    "    list_view.reverse()  #разворачиваем список\n",
    "    result_dict = {list_view[1]:list_view[0]} #создаем словарь, в него добавляем первую пару - 1ый и 0ой элементы списка\n",
    "    copy_result_dict = result_dict.copy()  #создаем переменную-копию списка, чтобы использовать ее как значение для след.ключей\n",
    "    i = 1 #счетчик для удаления ненужных ключей\n",
    "    for element in (list_view[2:]):  #идем по всем элементам списка, начиная с 3го\n",
    "        result_dict[element] = copy_result_dict  #добавляем элемент в словарь в качестве ключа, а зачение - переменная-словарь с предыдущего шага\n",
    "        del result_dict[list_view[i]]  #удаляем предыдущий ключ по индексу предыдущего элемента в списке\n",
    "        copy_result_dict = result_dict.copy()  #перезаписываем словарь в переменную\n",
    "        i += 1  \n",
    "    return result_dict\n",
    "print(converter_to_dict (original_list))        \n",
    "    "
   ]
  },
  {
   "cell_type": "markdown",
   "metadata": {},
   "source": [
    "## Задание 4"
   ]
  },
  {
   "cell_type": "markdown",
   "metadata": {},
   "source": [
    "Вы работаете секретарем и вам постоянно приходят различные документы. Вы должны быть очень внимательны, чтобы не потерять ни один документ. Каталог документов хранится в следующем виде:"
   ]
  },
  {
   "cell_type": "code",
   "execution_count": 2,
   "metadata": {},
   "outputs": [],
   "source": [
    "documents = [\n",
    "    {'type': 'passport', 'number': '2207 876234', 'name': 'Василий Гупкин'},\n",
    "    {'type': 'invoice', 'number': '11-2', 'name': 'Геннадий Покемонов'},\n",
    "    {'type': 'insurance', 'number': '10006', 'name': 'Аристарх Павлов'}\n",
    "]"
   ]
  },
  {
   "cell_type": "markdown",
   "metadata": {},
   "source": [
    "Перечень полок, на которых находятся документы хранится в следующем виде:"
   ]
  },
  {
   "cell_type": "code",
   "execution_count": 3,
   "metadata": {},
   "outputs": [],
   "source": [
    "directories = {\n",
    "    '1': ['2207 876234', '11-2', '5455 028765'],\n",
    "    '2': ['10006', '5400 028765', '5455 002299'],\n",
    "    '3': []\n",
    "}"
   ]
  },
  {
   "cell_type": "markdown",
   "metadata": {},
   "source": [
    "Необходимо реализовать пользовательские команды (внимание! это не название функций, которые должны быть выразительными, а команды, которые вводит пользователь, чтобы получить необходимый результат):\n",
    "  \n",
    "- p – people – команда, которая спросит номер документа и выведет имя человека, которому он принадлежит;  \n",
    "- s – shelf – команда, которая спросит номер документа и выведет номер полки, на которой он находится  \n",
    "Правильно обработайте ситуацию, когда пользователь будет вводить несуществующий документ.\n",
    "- l – list – команда, которая выведет список всех документов в формате   \n",
    "**passport \"2207 876234\" \"Василий Гупкин\"**  \n",
    "- as – add shelf – команда, которая спросит номер новой полки и добавит ее в перечень\n",
    "- d – delete – команда, которая спросит номер документа и удалит его из каталога и из перечня полок. Предусмотрите сценарий, когда пользователь вводит несуществующий документ;  \n",
    "- m – move – команда, которая спросит номер документа и целевую полку и переместит его с текущей полки на целевую. Корректно обработайте кейсы, когда пользователь пытается переместить несуществующий документ или переместить документ на несуществующую полку;  \n",
    "- a – add – команда, которая добавит новый документ в каталог и в перечень полок, спросив его номер, тип, имя владельца и номер полки, на котором он будет храниться."
   ]
  },
  {
   "cell_type": "code",
   "execution_count": 25,
   "metadata": {},
   "outputs": [
    {
     "name": "stdout",
     "output_type": "stream",
     "text": [
      "Введите номер документа: 123\n",
      "Введите тип документа: dfghfh\n",
      "Введите имя владельца: thyh\n",
      "Введите номер полки: 3\n"
     ]
    }
   ],
   "source": [
    "#input_comand = input('Введите команду: ')\n",
    "input_comand = 'a'\n",
    "if input_comand == 'l':\n",
    "    print(input_comand_l(documents))\n",
    "if input_comand == 'a':\n",
    "    input_comand_a (documents, directories)\n",
    "if input_comand == 'p':\n",
    "    input_comand_p (documents)\n",
    "if input_comand == 'as':\n",
    "    input_comand_as (directories)\n",
    "if input_comand == 's':\n",
    "    input_comand_s (directories)\n",
    "if input_comand == 'd':\n",
    "    input_comand_d (documents, directories)\n",
    "if input_comand == 'm':\n",
    "    input_comand_m (directories) "
   ]
  },
  {
   "cell_type": "code",
   "execution_count": 12,
   "metadata": {},
   "outputs": [],
   "source": [
    "def input_comand_l (comand_l):\n",
    "    output_list=[]\n",
    "    for document in documents:\n",
    "        for info in document.keys():\n",
    "            output_list.append(document[info])\n",
    "    return output_list           "
   ]
  },
  {
   "cell_type": "code",
   "execution_count": 1,
   "metadata": {},
   "outputs": [],
   "source": [
    "def input_comand_a (comand_a_documents, comand_a_directories):\n",
    "    number_doc = input('Введите номер документа: ')\n",
    "    type_doc = input('Введите тип документа: ')\n",
    "    name_doc = input('Введите имя владельца: ')\n",
    "    shelf_doc = input('Введите номер полки: ')\n",
    "    if shelf_doc in directories:\n",
    "        new_doc = {}\n",
    "        new_doc['type'] = type_doc\n",
    "        new_doc['number'] = number_doc\n",
    "        new_doc['name'] = name_doc\n",
    "        comand_a_documents.append(new_doc)\n",
    "        value_shelf = comand_a_directories.get(shelf_doc)\n",
    "        value_shelf.append(number_doc)\n",
    "        comand_a_directories[shelf_doc] = value_shelf\n",
    "    else:\n",
    "        print('Полка с таким номером не существует, повторите ввод')\n",
    "        "
   ]
  },
  {
   "cell_type": "code",
   "execution_count": 7,
   "metadata": {},
   "outputs": [],
   "source": [
    "def input_comand_p (comand_p):\n",
    "    number_doc = input('Введите номер документа: ')\n",
    "    for document in comand_p:\n",
    "        for key, value in document.items():\n",
    "            if number_doc == value:\n",
    "                print(document['name'])\n",
    "    \n",
    "        "
   ]
  },
  {
   "cell_type": "code",
   "execution_count": 26,
   "metadata": {},
   "outputs": [
    {
     "name": "stdout",
     "output_type": "stream",
     "text": [
      "[{'type': 'passport', 'number': '2207 876234', 'name': 'Василий Гупкин'}, {'type': 'invoice', 'number': '11-2', 'name': 'Геннадий Покемонов'}, {'type': 'insurance', 'number': '10006', 'name': 'Аристарх Павлов'}, {'type': 'dfghfh', 'number': '123', 'name': 'thyh'}]\n",
      "{'1': ['2207 876234', '11-2', '5455 028765'], '2': ['10006', '5400 028765', '5455 002299'], '3': ['123']}\n"
     ]
    }
   ],
   "source": [
    "print(documents)\n",
    "print(directories)\n"
   ]
  },
  {
   "cell_type": "code",
   "execution_count": 6,
   "metadata": {},
   "outputs": [
    {
     "name": "stdout",
     "output_type": "stream",
     "text": [
      "Введите номер документа: 11-2\n",
      "Геннадий Покемонов\n",
      "Документа с таким номером не существует\n"
     ]
    }
   ],
   "source": [
    "def input_comand_as (comand_as):\n",
    "    shelf_doc = input('Введите номер полки: ')\n",
    "    comand_as[shelf_doc] = []"
   ]
  },
  {
   "cell_type": "code",
   "execution_count": 9,
   "metadata": {},
   "outputs": [],
   "source": [
    "def input_comand_s (comand_s):\n",
    "    number_doc = input('Введите номер документа: ')\n",
    "    for shelf, value in comand_s.items():\n",
    "        for docs in value:\n",
    "            if number_doc == docs:\n",
    "                print(shelf)"
   ]
  },
  {
   "cell_type": "code",
   "execution_count": 8,
   "metadata": {},
   "outputs": [
    {
     "name": "stdout",
     "output_type": "stream",
     "text": [
      "Введите номер документа: 10006\n",
      "2\n"
     ]
    }
   ],
   "source": [
    "def input_comand_d (comand_d_documents, comand_d_directories):\n",
    "    number_doc = input('Введите номер документа: ')\n",
    "    for shelf, value in comand_d_directories.items():\n",
    "        for docs in value:\n",
    "            if number_doc == docs:\n",
    "                value.remove(number_doc)\n",
    "    i == 0\n",
    "    for document in comand_d_documents:\n",
    "        for key, value in document.items():\n",
    "            if number_doc == value:\n",
    "                del comand_d_documents[i]\n",
    "        i += 1"
   ]
  },
  {
   "cell_type": "code",
   "execution_count": 27,
   "metadata": {},
   "outputs": [
    {
     "name": "stdout",
     "output_type": "stream",
     "text": [
      "Введите номер документа: 123\n",
      "[{'type': 'passport', 'number': '2207 876234', 'name': 'Василий Гупкин'}, {'type': 'invoice', 'number': '11-2', 'name': 'Геннадий Покемонов'}, {'type': 'insurance', 'number': '10006', 'name': 'Аристарх Павлов'}]\n",
      "{'1': ['2207 876234', '11-2', '5455 028765'], '2': ['10006', '5400 028765', '5455 002299'], '3': []}\n"
     ]
    }
   ],
   "source": [
    "def input_comand_m (comand_m):\n",
    "    number_doc = input('Введите номер документа: ')\n",
    "    shelf_doc = input('Введите номер целевой полки: ')\n",
    "    for shelf, value in comand_m.items():\n",
    "        for docs in value:\n",
    "            if number_doc == docs:\n",
    "                if shelf_doc != shelf:\n",
    "                    value.remove(number_doc)\n",
    "                    value_shelf = comand_m.get(shelf_doc)\n",
    "                    value_shelf.append(number_doc)\n",
    "                    comand_m[shelf_doc] = value_shelf\n",
    "                else:\n",
    "                    break\n",
    "                "
   ]
  },
  {
   "cell_type": "code",
   "execution_count": 5,
   "metadata": {},
   "outputs": [
    {
     "name": "stdout",
     "output_type": "stream",
     "text": [
      "Введите номер документа: 10006\n",
      "Введите номер целевой полки: 2\n",
      "[{'type': 'passport', 'number': '2207 876234', 'name': 'Василий Гупкин'}, {'type': 'invoice', 'number': '11-2', 'name': 'Геннадий Покемонов'}, {'type': 'insurance', 'number': '10006', 'name': 'Аристарх Павлов'}]\n",
      "{'1': ['2207 876234', '5455 028765'], '2': ['10006', '5400 028765', '5455 002299'], '3': ['11-2']}\n"
     ]
    }
   ],
   "source": [
    "number_doc = input('Введите номер документа: ')\n",
    "shelf_doc = input('Введите номер целевой полки: ')\n",
    "for shelf, value in directories.items():\n",
    "    for docs in value:\n",
    "        if number_doc == docs:\n",
    "            if shelf_doc != shelf:\n",
    "                value.remove(number_doc)\n",
    "                value_shelf = directories.get(shelf_doc)\n",
    "                value_shelf.append(number_doc)\n",
    "                directories[shelf_doc] = value_shelf\n",
    "            else:\n",
    "                break\n",
    "print(documents)\n",
    "print(directories)"
   ]
  },
  {
   "cell_type": "code",
   "execution_count": null,
   "metadata": {},
   "outputs": [],
   "source": []
  }
 ],
 "metadata": {
  "kernelspec": {
   "display_name": "Python 3",
   "language": "python",
   "name": "python3"
  },
  "language_info": {
   "codemirror_mode": {
    "name": "ipython",
    "version": 3
   },
   "file_extension": ".py",
   "mimetype": "text/x-python",
   "name": "python",
   "nbconvert_exporter": "python",
   "pygments_lexer": "ipython3",
   "version": "3.7.3"
  }
 },
 "nbformat": 4,
 "nbformat_minor": 2
}
