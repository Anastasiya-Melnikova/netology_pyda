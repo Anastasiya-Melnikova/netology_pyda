{
 "cells": [
  {
   "cell_type": "markdown",
   "metadata": {},
   "source": [
    "**Домашнее задание **\n",
    "\n",
    "Задание 1\n",
    "\n",
    "Напишите функцию date_range, которая возвращает список дней между датами start_date и end_date. Даты должны вводиться в формате YYYY-MM-DD."
   ]
  },
  {
   "cell_type": "code",
   "execution_count": 1,
   "metadata": {},
   "outputs": [],
   "source": [
    "from datetime import datetime"
   ]
  },
  {
   "cell_type": "code",
   "execution_count": 2,
   "metadata": {},
   "outputs": [],
   "source": [
    "from datetime import timedelta"
   ]
  },
  {
   "cell_type": "code",
   "execution_count": 20,
   "metadata": {},
   "outputs": [
    {
     "name": "stdout",
     "output_type": "stream",
     "text": [
      "['2019-05-03 Friday', '2019-05-04 Saturday', '2019-05-05 Sunday', '2019-05-06 Monday']\n"
     ]
    }
   ],
   "source": [
    "def date_range(start_date, end_date):\n",
    "    start_date_dt = datetime.strptime(start_date, '%Y-%m-%d')\n",
    "    end_date_dt = datetime.strptime(end_date, '%Y-%m-%d')\n",
    "    print([(start_date_dt + timedelta(days = n)).strftime('%Y-%m-%d %A') for n in range(1, (end_date_dt - start_date_dt).days)])\n",
    "date_range('2019-05-02', '2019-05-07')\n",
    "        "
   ]
  },
  {
   "cell_type": "markdown",
   "metadata": {},
   "source": [
    "Задание 2\n",
    "\n",
    "Дополните функцию из первого задания проверкой на корректность дат. В случае неверного формата или если start_date > end_date должен возвращаться пустой список."
   ]
  },
  {
   "cell_type": "code",
   "execution_count": 24,
   "metadata": {},
   "outputs": [
    {
     "name": "stdout",
     "output_type": "stream",
     "text": [
      "['2019-05-07 Tuesday']\n"
     ]
    }
   ],
   "source": [
    "def date_range(start_date, end_date):\n",
    "    null_list = []\n",
    "    try:\n",
    "        start_date_dt = datetime.strptime(start_date, '%Y-%m-%d')\n",
    "        end_date_dt = datetime.strptime(end_date, '%Y-%m-%d')\n",
    "        print([(start_date_dt + timedelta(days = n)).strftime('%Y-%m-%d %A') for n in range(0, ((end_date_dt - start_date_dt).days) + 1)])\n",
    "    except ValueError:\n",
    "        print(null_list)\n",
    "            \n",
    "date_range('2019-05-07', '2019-05-07')\n",
    "# в задании 1 выводился список дат, не включая начальную и конечную (\"между\" было так интерпретировано),\n",
    "# здесь включая обе даты, чтобы выполнялось условие \"start_date > end_date\""
   ]
  },
  {
   "cell_type": "markdown",
   "metadata": {},
   "source": [
    "Задание 3\n",
    "\n",
    "Дан поток дат в формате YYYY-MM-DD, в которых встречаются некорректные значения:\n",
    "stream = [‘2018-04-02’, ‘2018-02-29’, ‘2018-19-02’]\n",
    "\n",
    "Напишите функцию, которая проверяет эти даты на корректность. Т. е. для каждой даты возвращает True (дата корректна) или False (некорректная дата)."
   ]
  },
  {
   "cell_type": "code",
   "execution_count": 31,
   "metadata": {},
   "outputs": [
    {
     "name": "stdout",
     "output_type": "stream",
     "text": [
      "2018-04-02 True\n",
      "2018-02-29 False\n",
      "2018-19-02 False\n"
     ]
    }
   ],
   "source": [
    "def correct_date(stream):\n",
    "    for date_ in stream:\n",
    "        try:\n",
    "            date_dt = datetime.strptime(date_, '%Y-%m-%d')\n",
    "            print(date_, 'True')\n",
    "        except ValueError:\n",
    "            print(date_, 'False')\n",
    "        \n",
    "correct_date(['2018-04-02', '2018-02-29', '2018-19-02'])"
   ]
  },
  {
   "cell_type": "markdown",
   "metadata": {},
   "source": [
    "Задание 4 (бонусное)\n",
    "\n",
    "Ваш коллега прислал код функции:\n",
    "\n",
    "DEFAULT_USER_COUNT = 3\n",
    "\n",
    "def delete_and_return_last_user(region, default_list=[‘A100’, ‘A101’, ‘A102’]):\n",
    "\n",
    "\"\"“\n",
    "\n",
    "Удаляет из списка default_list последнего пользователя\n",
    "\n",
    "и возвращает ID нового последнего пользователя.\n",
    "\n",
    "”\"\"\n",
    "\n",
    "element_to_delete = default_list[-1]\n",
    "\n",
    "default_list.remove(element_to_delete)\n",
    "\n",
    "return default_list[DEFAULT_USER_COUNT-2]\n",
    "\n",
    "При однократном вызове этой функции все работает корректно:\n",
    "delete_and_return_last_user(1)\n",
    "‘A101’\n",
    "\n",
    "Однако, при повторном вызове получается ошибка IndexError: list index out of range.\n",
    "\n",
    "Задание:\n",
    "\n",
    "Что значит ошибка list index out of range?\n",
    "\n",
    "Почему при первом запуске функция работает корректно, а при втором - нет?"
   ]
  },
  {
   "cell_type": "code",
   "execution_count": 46,
   "metadata": {},
   "outputs": [
    {
     "data": {
      "text/plain": [
       "'A100'"
      ]
     },
     "execution_count": 46,
     "metadata": {},
     "output_type": "execute_result"
    }
   ],
   "source": [
    "DEFAULT_USER_COUNT = 3\n",
    "def delete_and_return_last_user(region, default_list=['A100', 'A101', 'A102']):\n",
    "    element_to_delete = default_list[-1]\n",
    "    default_list.remove(element_to_delete)\n",
    "    return default_list[DEFAULT_USER_COUNT-2]\n",
    "#    return default_list[-1]\n",
    "delete_and_return_last_user('1')\n",
    "delete_and_return_last_user(10.456)\n",
    "delete_and_return_last_user(1)"
   ]
  },
  {
   "cell_type": "markdown",
   "metadata": {},
   "source": [
    "Ошибка \"list index out of range\" означает, что элемент с искомым индексом отсутствует.\n",
    "\n",
    "При первом запуске функция работает корректно, т.к. возвращает значение элемента с индексом 1 ('A101'), который существует в списке, при повторном вызове функции список default_list не пересоздается, а является результатом работы первого вызова, т.е. содержит элементы: 'A100', 'A101', а после выполнения тела функции (удаления последнего элемента) в списке остается только один элемент 'A100', индекс которого равен \"0\", соответственно индекса, равного \"1\", нет, и возникает ошибка.\n",
    "\n",
    "Не совсем поняла, почему нельзя указать в return сразу последний элемент по индексу \"-1\":\n",
    "\n",
    "return default_list[-1]"
   ]
  },
  {
   "cell_type": "markdown",
   "metadata": {},
   "source": [
    "-----------------------------------------------------------------------------------------------------------------"
   ]
  },
  {
   "cell_type": "markdown",
   "metadata": {},
   "source": [
    "# Задача про интервалы\n",
    "Имеется список отсортированных по возрастанию целых чисел data. А также целое число n, которое лежит между минимальным и максимальным значениями из списка data. Вам необходимо определить минимальное ближайшее число к n из списка data.\n",
    "\n",
    "Пример:\n",
    "```python\n",
    "data = [1, 7, 17, 23, 27, 35, 65]\n",
    "n = 20\n",
    "```\n",
    "\n",
    "Ответ: 17\n",
    "\n",
    "Подобные алгоритмы используются для классификации объекта по значению одной метрики. Например, это может пригодиться для классификации учащегося по его возрасту:\n",
    "```python\n",
    "ages = {\n",
    "    1: 'дети',\n",
    "    7: 'школьники',\n",
    "    17: 'студенты',\n",
    "    23: 'аспиранты',\n",
    "    27: 'молодые ученые',\n",
    "    35: 'преподаватели',\n",
    "    65: 'пенсионеры',\n",
    "}\n",
    "```\n",
    "\n",
    "Итого напишите функцию, которая по списку data и числу n возвращает минимальное ближайшее к n число. Список может быть любым, поэтому не рассчитывайте на написание цепочки условий через if.\n",
    "\n",
    "Бонусные варианты:\n",
    "1. Рассмотрите ситуацию, в которой при фиксированном списке data вам необходимо классифицировать большое количество пользователей с разными значениями n. Например, вам необходимо классифицировать базу из 100 миллионов человек по возрастам по словарю ages из примера выше. Можно ли в таком случае ускорить проход по такому числу пользователей?\n",
    "\n",
    "2. Если вы решали основное задание перебором элементов списка data и сравнением с n, то сложность такого алгоритма O(N). Т. е. при увеличении числа элементов списка data в N раз время работы алгоритма тоже вырастет в N раз. Попробуйте ускорить этот алгоритм. Например, с помощью аналога бинарного поиска."
   ]
  },
  {
   "cell_type": "code",
   "execution_count": 11,
   "metadata": {},
   "outputs": [],
   "source": [
    "data = [1, 7, 17, 23, 27, 35, 65]\n",
    "n = 20"
   ]
  },
  {
   "cell_type": "markdown",
   "metadata": {},
   "source": [
    "перебором элементов списка data и сравнением с n"
   ]
  },
  {
   "cell_type": "code",
   "execution_count": 61,
   "metadata": {},
   "outputs": [
    {
     "data": {
      "text/plain": [
       "17"
      ]
     },
     "execution_count": 61,
     "metadata": {},
     "output_type": "execute_result"
    }
   ],
   "source": [
    "def min_n(data, n):\n",
    "    for elem in data:\n",
    "        if elem == n:\n",
    "            a = elem\n",
    "            break\n",
    "        elif elem < n:\n",
    "            b = elem\n",
    "        elif elem > n:\n",
    "            a = b\n",
    "            break\n",
    "    return a\n",
    "min_n(data, n)"
   ]
  },
  {
   "cell_type": "markdown",
   "metadata": {},
   "source": [
    "с помощью аналога бинарного поиска"
   ]
  },
  {
   "cell_type": "code",
   "execution_count": 14,
   "metadata": {},
   "outputs": [
    {
     "name": "stdout",
     "output_type": "stream",
     "text": [
      "17\n",
      "35\n"
     ]
    }
   ],
   "source": [
    "def min_n(data, n):\n",
    "    data_c = data.copy() #создаем копию списка, которую будем изменять\n",
    "    middle = len(data_c) / 2 #проверяем условие завершения цикла - завершится только, когда в списке останется два элемента, между которыми находится искомый\n",
    "    while middle != 1:\n",
    "        data_middle = data_c[len(data_c) // 2] #находим средний элемент списка\n",
    "        if n == data_middle:\n",
    "            print(data_middle)\n",
    "            break\n",
    "        elif n < data_middle:\n",
    "            data_c = data_c[:(data_c.index(data_middle) + 1)] #оставляем часть списка от начала до среднего элемента включительно \n",
    "            middle = len(data_c) / 2\n",
    "        elif n > data_middle:\n",
    "            data_c = data_c[data_c.index(data_middle):] #оставляем часть списка от среднего элемента до конца\n",
    "            middle = len(data_c) / 2\n",
    "    else:\n",
    "        print(data_c[0])\n",
    "\n",
    "min_n(data, n)\n",
    "min_n(data, 50)"
   ]
  },
  {
   "cell_type": "code",
   "execution_count": null,
   "metadata": {},
   "outputs": [],
   "source": []
  }
 ],
 "metadata": {
  "kernelspec": {
   "display_name": "Python 3",
   "language": "python",
   "name": "python3"
  },
  "language_info": {
   "codemirror_mode": {
    "name": "ipython",
    "version": 3
   },
   "file_extension": ".py",
   "mimetype": "text/x-python",
   "name": "python",
   "nbconvert_exporter": "python",
   "pygments_lexer": "ipython3",
   "version": "3.7.3"
  }
 },
 "nbformat": 4,
 "nbformat_minor": 2
}
