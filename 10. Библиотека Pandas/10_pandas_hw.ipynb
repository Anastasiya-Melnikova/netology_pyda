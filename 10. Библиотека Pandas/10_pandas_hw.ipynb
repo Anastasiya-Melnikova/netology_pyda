{
 "cells": [
  {
   "cell_type": "markdown",
   "metadata": {},
   "source": [
    "Домашнее задание\n",
    "\n",
    "Задание 1\n",
    "\n",
    "Скачайте с сайта https://grouplens.org/datasets/movielens/ датасет любого размера. \n",
    "\n",
    "Определите какому фильму было выставлено больше всего оценок 5.0."
   ]
  },
  {
   "cell_type": "code",
   "execution_count": 1,
   "metadata": {},
   "outputs": [],
   "source": [
    "import pandas as pd"
   ]
  },
  {
   "cell_type": "code",
   "execution_count": 10,
   "metadata": {},
   "outputs": [
    {
     "data": {
      "text/html": [
       "<div>\n",
       "<style scoped>\n",
       "    .dataframe tbody tr th:only-of-type {\n",
       "        vertical-align: middle;\n",
       "    }\n",
       "\n",
       "    .dataframe tbody tr th {\n",
       "        vertical-align: top;\n",
       "    }\n",
       "\n",
       "    .dataframe thead th {\n",
       "        text-align: right;\n",
       "    }\n",
       "</style>\n",
       "<table border=\"1\" class=\"dataframe\">\n",
       "  <thead>\n",
       "    <tr style=\"text-align: right;\">\n",
       "      <th></th>\n",
       "      <th>userId</th>\n",
       "      <th>movieId</th>\n",
       "      <th>rating</th>\n",
       "      <th>timestamp</th>\n",
       "    </tr>\n",
       "  </thead>\n",
       "  <tbody>\n",
       "    <tr>\n",
       "      <th>0</th>\n",
       "      <td>1</td>\n",
       "      <td>307</td>\n",
       "      <td>3.5</td>\n",
       "      <td>1256677221</td>\n",
       "    </tr>\n",
       "    <tr>\n",
       "      <th>1</th>\n",
       "      <td>1</td>\n",
       "      <td>481</td>\n",
       "      <td>3.5</td>\n",
       "      <td>1256677456</td>\n",
       "    </tr>\n",
       "    <tr>\n",
       "      <th>2</th>\n",
       "      <td>1</td>\n",
       "      <td>1091</td>\n",
       "      <td>1.5</td>\n",
       "      <td>1256677471</td>\n",
       "    </tr>\n",
       "  </tbody>\n",
       "</table>\n",
       "</div>"
      ],
      "text/plain": [
       "   userId  movieId  rating   timestamp\n",
       "0       1      307     3.5  1256677221\n",
       "1       1      481     3.5  1256677456\n",
       "2       1     1091     1.5  1256677471"
      ]
     },
     "execution_count": 10,
     "metadata": {},
     "output_type": "execute_result"
    }
   ],
   "source": [
    "datafr = pd.read_csv('ratings.csv')\n",
    "datafr.head(3)"
   ]
  },
  {
   "cell_type": "code",
   "execution_count": 12,
   "metadata": {},
   "outputs": [
    {
     "data": {
      "text/plain": [
       "318    48762\n",
       "Name: movieId, dtype: int64"
      ]
     },
     "execution_count": 12,
     "metadata": {},
     "output_type": "execute_result"
    }
   ],
   "source": [
    "datafr[datafr['rating'] == 5.0][['movieId']].value_counts().head(1)"
   ]
  },
  {
   "cell_type": "markdown",
   "metadata": {},
   "source": [
    "Задание 2\n",
    "\n",
    "По данным файла power.csv посчитайте суммарное потребление стран Прибалтики (Латвия, Литва и Эстония) категорий 4, 12 и 21 за период с 2005 по 2010 года. Не учитывайте в расчетах отрицательные значения quantity."
   ]
  },
  {
   "cell_type": "code",
   "execution_count": 2,
   "metadata": {},
   "outputs": [
    {
     "data": {
      "text/html": [
       "<div>\n",
       "<style scoped>\n",
       "    .dataframe tbody tr th:only-of-type {\n",
       "        vertical-align: middle;\n",
       "    }\n",
       "\n",
       "    .dataframe tbody tr th {\n",
       "        vertical-align: top;\n",
       "    }\n",
       "\n",
       "    .dataframe thead th {\n",
       "        text-align: right;\n",
       "    }\n",
       "</style>\n",
       "<table border=\"1\" class=\"dataframe\">\n",
       "  <thead>\n",
       "    <tr style=\"text-align: right;\">\n",
       "      <th></th>\n",
       "      <th>country</th>\n",
       "      <th>year</th>\n",
       "      <th>quantity</th>\n",
       "      <th>category</th>\n",
       "    </tr>\n",
       "  </thead>\n",
       "  <tbody>\n",
       "    <tr>\n",
       "      <th>0</th>\n",
       "      <td>Austria</td>\n",
       "      <td>1996</td>\n",
       "      <td>5.0</td>\n",
       "      <td>1</td>\n",
       "    </tr>\n",
       "    <tr>\n",
       "      <th>1</th>\n",
       "      <td>Austria</td>\n",
       "      <td>1995</td>\n",
       "      <td>17.0</td>\n",
       "      <td>1</td>\n",
       "    </tr>\n",
       "    <tr>\n",
       "      <th>2</th>\n",
       "      <td>Belgium</td>\n",
       "      <td>2014</td>\n",
       "      <td>0.0</td>\n",
       "      <td>1</td>\n",
       "    </tr>\n",
       "  </tbody>\n",
       "</table>\n",
       "</div>"
      ],
      "text/plain": [
       "   country  year  quantity  category\n",
       "0  Austria  1996       5.0         1\n",
       "1  Austria  1995      17.0         1\n",
       "2  Belgium  2014       0.0         1"
      ]
     },
     "execution_count": 2,
     "metadata": {},
     "output_type": "execute_result"
    }
   ],
   "source": [
    "datafr_power = pd.read_csv('power.csv')\n",
    "datafr_power.head(3)"
   ]
  },
  {
   "cell_type": "code",
   "execution_count": 3,
   "metadata": {},
   "outputs": [
    {
     "data": {
      "text/plain": [
       "240580.0"
      ]
     },
     "execution_count": 3,
     "metadata": {},
     "output_type": "execute_result"
    }
   ],
   "source": [
    "datafr_power[((datafr_power['country'] == 'Latvia') | (datafr_power['country'] == 'Estonia') | (datafr_power['country'] == 'Lithuania'))\n",
    "                & ((datafr_power['year']<=2010) & (datafr_power['year']>=2005))\n",
    "                & ((datafr_power['category'] == 4) | (datafr_power['category'] == 12) | (datafr_power['category'] == 21))\n",
    "            & ((datafr_power['quantity'] > 0))]['quantity'].sum()"
   ]
  },
  {
   "cell_type": "code",
   "execution_count": 4,
   "metadata": {},
   "outputs": [
    {
     "data": {
      "text/plain": [
       "240580.0"
      ]
     },
     "execution_count": 4,
     "metadata": {},
     "output_type": "execute_result"
    }
   ],
   "source": [
    "#КОРОТКАЯ ЗАПИСЬ С ПОМОЩЬЮ МЕТОДА ISIN\n",
    "datafr_power[(datafr_power['country'].isin(['Latvia', 'Estonia', 'Lithuania']))\n",
    "                & ((datafr_power['year']<=2010) & (datafr_power['year']>=2005))\n",
    "                & ((datafr_power['category'] == 4) | (datafr_power['category'] == 12) | (datafr_power['category'] == 21))\n",
    "            & ((datafr_power['quantity'] > 0))]['quantity'].sum()"
   ]
  },
  {
   "cell_type": "markdown",
   "metadata": {},
   "source": [
    "Задание 3\n",
    "\n",
    "Выберите страницу любого сайта с табличными данными. Импортируйте таблицы в pandas dataframe.\n",
    "\n",
    "Примеры страниц (необязательно брать именно эти):\n",
    "\n",
    "https://fortrader.org/quotes\n",
    "\n",
    "https://www.finanz.ru/valyuty/v-realnom-vremeni"
   ]
  },
  {
   "cell_type": "code",
   "execution_count": 41,
   "metadata": {},
   "outputs": [
    {
     "data": {
      "text/html": [
       "<div>\n",
       "<style scoped>\n",
       "    .dataframe tbody tr th:only-of-type {\n",
       "        vertical-align: middle;\n",
       "    }\n",
       "\n",
       "    .dataframe tbody tr th {\n",
       "        vertical-align: top;\n",
       "    }\n",
       "\n",
       "    .dataframe thead th {\n",
       "        text-align: right;\n",
       "    }\n",
       "</style>\n",
       "<table border=\"1\" class=\"dataframe\">\n",
       "  <thead>\n",
       "    <tr style=\"text-align: right;\">\n",
       "      <th></th>\n",
       "      <th>Type</th>\n",
       "      <th>Last</th>\n",
       "      <th>Chg.</th>\n",
       "      <th>Chg.%</th>\n",
       "      <th>Time</th>\n",
       "    </tr>\n",
       "  </thead>\n",
       "  <tbody>\n",
       "    <tr>\n",
       "      <th>0</th>\n",
       "      <td>Нефть (BRENT) Курс нефти сегодня</td>\n",
       "      <td>58.650</td>\n",
       "      <td>0.020</td>\n",
       "      <td>0.030</td>\n",
       "      <td>NaN</td>\n",
       "    </tr>\n",
       "    <tr>\n",
       "      <th>1</th>\n",
       "      <td>Нефть (WTI) Цены на нефть (WTI)</td>\n",
       "      <td>53.110</td>\n",
       "      <td>0.060</td>\n",
       "      <td>0.110</td>\n",
       "      <td>NaN</td>\n",
       "    </tr>\n",
       "    <tr>\n",
       "      <th>2</th>\n",
       "      <td>Сахар котировки на сахар</td>\n",
       "      <td>12.630</td>\n",
       "      <td>0.000</td>\n",
       "      <td>0.000</td>\n",
       "      <td>NaN</td>\n",
       "    </tr>\n",
       "    <tr>\n",
       "      <th>3</th>\n",
       "      <td>Газ Цена на газ</td>\n",
       "      <td>1.871</td>\n",
       "      <td>-0.002</td>\n",
       "      <td>-0.107</td>\n",
       "      <td>NaN</td>\n",
       "    </tr>\n",
       "  </tbody>\n",
       "</table>\n",
       "</div>"
      ],
      "text/plain": [
       "                               Type    Last   Chg.  Chg.%  Time\n",
       "0  Нефть (BRENT) Курс нефти сегодня  58.650  0.020  0.030   NaN\n",
       "1   Нефть (WTI) Цены на нефть (WTI)  53.110  0.060  0.110   NaN\n",
       "2          Сахар котировки на сахар  12.630  0.000  0.000   NaN\n",
       "3                   Газ Цена на газ   1.871 -0.002 -0.107   NaN"
      ]
     },
     "execution_count": 41,
     "metadata": {},
     "output_type": "execute_result"
    }
   ],
   "source": [
    "pd.read_html('https://fortrader.org/quotes')[0]"
   ]
  },
  {
   "cell_type": "code",
   "execution_count": 42,
   "metadata": {},
   "outputs": [
    {
     "data": {
      "text/html": [
       "<div>\n",
       "<style scoped>\n",
       "    .dataframe tbody tr th:only-of-type {\n",
       "        vertical-align: middle;\n",
       "    }\n",
       "\n",
       "    .dataframe tbody tr th {\n",
       "        vertical-align: top;\n",
       "    }\n",
       "\n",
       "    .dataframe thead th {\n",
       "        text-align: right;\n",
       "    }\n",
       "</style>\n",
       "<table border=\"1\" class=\"dataframe\">\n",
       "  <thead>\n",
       "    <tr style=\"text-align: right;\">\n",
       "      <th></th>\n",
       "      <th>Type</th>\n",
       "      <th>Last</th>\n",
       "      <th>Chg.</th>\n",
       "      <th>Chg.%</th>\n",
       "      <th>Time</th>\n",
       "    </tr>\n",
       "  </thead>\n",
       "  <tbody>\n",
       "    <tr>\n",
       "      <th>0</th>\n",
       "      <td>ВТБ Акции ВТБ</td>\n",
       "      <td>0.04811</td>\n",
       "      <td>+0.000630</td>\n",
       "      <td>1.326874</td>\n",
       "      <td>NaN</td>\n",
       "    </tr>\n",
       "    <tr>\n",
       "      <th>1</th>\n",
       "      <td>Газпром Акции газпрома</td>\n",
       "      <td>238.01000</td>\n",
       "      <td>+5.99</td>\n",
       "      <td>2.580000</td>\n",
       "      <td>NaN</td>\n",
       "    </tr>\n",
       "    <tr>\n",
       "      <th>2</th>\n",
       "      <td>Лукойл Акции Лукойл</td>\n",
       "      <td>6620.50000</td>\n",
       "      <td>-17.5</td>\n",
       "      <td>-0.300000</td>\n",
       "      <td>NaN</td>\n",
       "    </tr>\n",
       "    <tr>\n",
       "      <th>3</th>\n",
       "      <td>Роснефть Акции Роснефти</td>\n",
       "      <td>475.05000</td>\n",
       "      <td>-5.90</td>\n",
       "      <td>-1.230000</td>\n",
       "      <td>NaN</td>\n",
       "    </tr>\n",
       "    <tr>\n",
       "      <th>4</th>\n",
       "      <td>Сбербанк Акции Сбербанка</td>\n",
       "      <td>265.39000</td>\n",
       "      <td>+6.02</td>\n",
       "      <td>2.320000</td>\n",
       "      <td>NaN</td>\n",
       "    </tr>\n",
       "    <tr>\n",
       "      <th>5</th>\n",
       "      <td>Сургутнефтегаз Акции Сургутнефтегаза</td>\n",
       "      <td>48.05500</td>\n",
       "      <td>+0.210</td>\n",
       "      <td>0.439000</td>\n",
       "      <td>NaN</td>\n",
       "    </tr>\n",
       "    <tr>\n",
       "      <th>6</th>\n",
       "      <td>Норникель Акции Норникель</td>\n",
       "      <td>21192.00000</td>\n",
       "      <td>-40</td>\n",
       "      <td>-0.000000</td>\n",
       "      <td>NaN</td>\n",
       "    </tr>\n",
       "    <tr>\n",
       "      <th>7</th>\n",
       "      <td>Аэрофлот Акции Аерофлота</td>\n",
       "      <td>114.76000</td>\n",
       "      <td>+6.86</td>\n",
       "      <td>6.360000</td>\n",
       "      <td>NaN</td>\n",
       "    </tr>\n",
       "    <tr>\n",
       "      <th>8</th>\n",
       "      <td>Северсталь Акции Северсталь</td>\n",
       "      <td>956.60000</td>\n",
       "      <td>+15.60</td>\n",
       "      <td>1.660000</td>\n",
       "      <td>NaN</td>\n",
       "    </tr>\n",
       "    <tr>\n",
       "      <th>9</th>\n",
       "      <td>Транснефть Акции транснефти</td>\n",
       "      <td>176700.00000</td>\n",
       "      <td>+10 400</td>\n",
       "      <td>6.000000</td>\n",
       "      <td>NaN</td>\n",
       "    </tr>\n",
       "    <tr>\n",
       "      <th>10</th>\n",
       "      <td>Ростелеком Курс акций ростелекома</td>\n",
       "      <td>86.25000</td>\n",
       "      <td>+13.42</td>\n",
       "      <td>18.430000</td>\n",
       "      <td>NaN</td>\n",
       "    </tr>\n",
       "    <tr>\n",
       "      <th>11</th>\n",
       "      <td>RUSAL акции RUSAL</td>\n",
       "      <td>4.23000</td>\n",
       "      <td>+0.07</td>\n",
       "      <td>1.680000</td>\n",
       "      <td>NaN</td>\n",
       "    </tr>\n",
       "  </tbody>\n",
       "</table>\n",
       "</div>"
      ],
      "text/plain": [
       "                                    Type          Last       Chg.      Chg.%  \\\n",
       "0                          ВТБ Акции ВТБ       0.04811  +0.000630   1.326874   \n",
       "1                 Газпром Акции газпрома     238.01000      +5.99   2.580000   \n",
       "2                    Лукойл Акции Лукойл    6620.50000      -17.5  -0.300000   \n",
       "3                Роснефть Акции Роснефти     475.05000      -5.90  -1.230000   \n",
       "4               Сбербанк Акции Сбербанка     265.39000      +6.02   2.320000   \n",
       "5   Сургутнефтегаз Акции Сургутнефтегаза      48.05500     +0.210   0.439000   \n",
       "6              Норникель Акции Норникель   21192.00000        -40  -0.000000   \n",
       "7               Аэрофлот Акции Аерофлота     114.76000      +6.86   6.360000   \n",
       "8            Северсталь Акции Северсталь     956.60000     +15.60   1.660000   \n",
       "9            Транснефть Акции транснефти  176700.00000    +10 400   6.000000   \n",
       "10     Ростелеком Курс акций ростелекома      86.25000     +13.42  18.430000   \n",
       "11                     RUSAL акции RUSAL       4.23000      +0.07   1.680000   \n",
       "\n",
       "    Time  \n",
       "0    NaN  \n",
       "1    NaN  \n",
       "2    NaN  \n",
       "3    NaN  \n",
       "4    NaN  \n",
       "5    NaN  \n",
       "6    NaN  \n",
       "7    NaN  \n",
       "8    NaN  \n",
       "9    NaN  \n",
       "10   NaN  \n",
       "11   NaN  "
      ]
     },
     "execution_count": 42,
     "metadata": {},
     "output_type": "execute_result"
    }
   ],
   "source": [
    "pd.read_html('https://fortrader.org/quotes')[1]"
   ]
  },
  {
   "cell_type": "code",
   "execution_count": null,
   "metadata": {},
   "outputs": [],
   "source": []
  }
 ],
 "metadata": {
  "kernelspec": {
   "display_name": "Python 3",
   "language": "python",
   "name": "python3"
  },
  "language_info": {
   "codemirror_mode": {
    "name": "ipython",
    "version": 3
   },
   "file_extension": ".py",
   "mimetype": "text/x-python",
   "name": "python",
   "nbconvert_exporter": "python",
   "pygments_lexer": "ipython3",
   "version": "3.7.3"
  }
 },
 "nbformat": 4,
 "nbformat_minor": 2
}
