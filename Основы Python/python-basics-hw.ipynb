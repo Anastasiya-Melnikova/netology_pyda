{
 "cells": [
  {
   "cell_type": "markdown",
   "metadata": {},
   "source": [
    "**Задание 1**. Даны 2 строки: *long_phrase* и *short_phrase*. \n",
    "Напишите код, который проверяет действительно ли длинная фраза *long_phrase* длиннее короткой *short_phrase*. И выводит *True* или *False* в зависимости от результата сравнения."
   ]
  },
  {
   "cell_type": "code",
   "execution_count": 7,
   "metadata": {},
   "outputs": [],
   "source": [
    "long_phrase = 'Насколько проще было бы писать программы, если бы не заказчики'\n",
    "short_phrase = '640Кб должно хватить для любых задач. Билл Гейтс (по легенде)'"
   ]
  },
  {
   "cell_type": "code",
   "execution_count": 8,
   "metadata": {},
   "outputs": [
    {
     "name": "stdout",
     "output_type": "stream",
     "text": [
      "True\n"
     ]
    }
   ],
   "source": [
    "if len(long_phrase)>len(short_phrase):\n",
    "    print('True')\n",
    "else:\n",
    "    print('False')\n",
    "    "
   ]
  },
  {
   "cell_type": "markdown",
   "metadata": {},
   "source": [
    "**Задание 2**. Дано значение объема файла в байтах. Напишите перевод этого значения в мегабайты в формате: \"*Объем файла равен 213.68Mb*\""
   ]
  },
  {
   "cell_type": "code",
   "execution_count": 17,
   "metadata": {},
   "outputs": [
    {
     "name": "stdout",
     "output_type": "stream",
     "text": [
      "Введите объем файла в байтах: 4564536\n",
      "Объем файла равен  4.35 Mb\n"
     ]
    }
   ],
   "source": [
    "V=float(input('Введите объем файла в байтах: '))\n",
    "print('Объем файла равен',round(V/1024/1024,2),'Mb')"
   ]
  },
  {
   "cell_type": "markdown",
   "metadata": {},
   "source": [
    "**Задание 3**. Разработать приложение для определения знака зодиака по дате рождения. Пример:\n",
    "\n",
    "Введите месяц: март\n",
    "\n",
    "Введите число: 6\n",
    "\n",
    "Вывод:\n",
    "Рыбы"
   ]
  },
  {
   "cell_type": "code",
   "execution_count": 18,
   "metadata": {},
   "outputs": [
    {
     "name": "stdout",
     "output_type": "stream",
     "text": [
      "Введите месяц: март\n",
      "Введите число: 6\n",
      "Вывод: Рыбы\n"
     ]
    }
   ],
   "source": [
    "mounth=input('Введите месяц: ')\n",
    "day=int(input('Введите число: '))\n",
    "if mounth=='январь':\n",
    "    if 1<=day<=19:\n",
    "        print('Вывод: Козерог')\n",
    "    elif 20<=day<=31:\n",
    "        print('Вывод: Водолей')\n",
    "elif mounth=='февраль':\n",
    "    if 1<=day<=18:\n",
    "        print('Вывод: Водолей')\n",
    "    elif 19<=day<=29:\n",
    "        print('Вывод: Рыбы')\n",
    "elif mounth=='март':\n",
    "    if 1<=day<=20:\n",
    "        print('Вывод: Рыбы')\n",
    "    elif 21<=day<=31:\n",
    "        print('Вывод: Овен')\n",
    "elif mounth=='апрель':\n",
    "    if 1<=day<=19:\n",
    "        print('Вывод: Овен')\n",
    "    elif 20<=day<=30:\n",
    "        print('Вывод: Телец')\n",
    "elif mounth=='май':\n",
    "    if 1<=day<=20:\n",
    "        print('Вывод: Телец')\n",
    "    elif 21<=day<=31:\n",
    "        print('Вывод: Близнецы')\n",
    "elif mounth=='июнь':\n",
    "    if 1<=day<=20:\n",
    "        print('Вывод: Близнецы')\n",
    "    elif 21<=day<=30:\n",
    "        print('Вывод: Рак')\n",
    "elif mounth=='июль':\n",
    "    if 1<=day<=22:\n",
    "        print('Вывод: Рак')\n",
    "    elif 23<=day<=31:\n",
    "        print('Вывод: Лев')\n",
    "elif mounth=='август':\n",
    "    if 1<=day<=22:\n",
    "        print('Вывод: Лев')\n",
    "    elif 23<=day<=31:\n",
    "        print('Вывод: Дева')\n",
    "elif mounth=='сентябрь':\n",
    "    if 1<=day<=22:\n",
    "        print('Вывод: Дева')\n",
    "    elif 23<=day<=30:\n",
    "        print('Вывод: Весы')\n",
    "elif mounth=='октябрь':\n",
    "    if 1<=day<=22:\n",
    "        print('Вывод: Весы')\n",
    "    elif 23<=day<=31:\n",
    "        print('Вывод: Скорпион')\n",
    "elif mounth=='ноябрь':\n",
    "    if 1<=day<=21:\n",
    "        print('Вывод: Скорпион')\n",
    "    elif 22<=day<=30:\n",
    "        print('Вывод: Стрелец')\n",
    "elif mounth=='декабрь':\n",
    "    if 1<=day<=21:\n",
    "        print('Вывод: Стрелец')\n",
    "    elif 22<=day<=31:\n",
    "        print('Вывод: Козерог')\n",
    "else:\n",
    "    print('Вы ввели неверные месяц и/или число')"
   ]
  },
  {
   "cell_type": "markdown",
   "metadata": {},
   "source": [
    "**Задание 4**. Нужно разработать приложение для финансового планирования.\n",
    "Приложение учитывает сколько уходит на ипотеку, \"на жизнь\" и сколько нужно отложить на пенсию.\n",
    "Пользователь вводит:\n",
    "- заработанную плату в месяц.\n",
    "- сколько процентов от ЗП уходит на ипотеку.\n",
    "- сколько процентов от ЗП уходит \"на жизнь\".\n",
    "- сколько раз приходит премия в год.\n",
    "\n",
    "Остальная часть заработанной платы откладывается на пенсию.\n",
    "\n",
    "Также пользователю приходит премия в размере зарплаты, от которой половина уходит на отпуск, а вторая половина откладывается.\n",
    "\n",
    "Программа должна учитывать сколько премий было в год.\n",
    "\n",
    "Нужно вывести сколько денег тратит пользователь на ипотеку и сколько он накопит за год.\n",
    "\n",
    "Пример:\n",
    "\n",
    "Введите заработанную плату в месяц: 100000\n",
    "\n",
    "Введите сколько процентов уходит на ипотеку: 30\n",
    "\n",
    "Введите сколько процентов уходит на жизнь: 50\n",
    "\n",
    "Введите количество премий за год: 2\n",
    "\n",
    "Вывод:\n",
    "На ипотеку было потрачено: 360000 рублей\n",
    "Было накоплено: 340000 рублей"
   ]
  },
  {
   "cell_type": "code",
   "execution_count": 1,
   "metadata": {},
   "outputs": [
    {
     "name": "stdout",
     "output_type": "stream",
     "text": [
      "Введите заработанную плату в месяц: 100000\n",
      "Введите сколько процентов уходит на ипотеку: 30\n",
      "Введите сколько процентов уходит на жизнь:50\n",
      "Введите количество премий за год:2\n",
      "На ипотеку было потрачено:  360000  рублей Было накоплено:  340000  рублей\n"
     ]
    }
   ],
   "source": [
    "zp=int(input('Введите заработанную плату в месяц: '))\n",
    "na_ipoteku=int(input('Введите сколько процентов уходит на ипотеку: '))\n",
    "na_zhizn=int(input('Введите сколько процентов уходит на жизнь:'))\n",
    "kol_vo_premii=int(input('Введите количество премий за год:'))\n",
    "ipoteka=zp*12*(na_ipoteku/100)\n",
    "nakopleno=(zp*12*((100-na_ipoteku-na_zhizn)/100))+((kol_vo_premii*zp)/2)\n",
    "if na_ipoteku+na_zhizn<=100:\n",
    "    print('На ипотеку было потрачено: ',int(ipoteka),' рублей Было накоплено: ', int(nakopleno), ' рублей')\n",
    "else:\n",
    "    print('Некорректные данные процентного соотношения')"
   ]
  },
  {
   "cell_type": "markdown",
   "metadata": {},
   "source": [
    "Задание дополнительное\n",
    "Задание 1\n",
    "https://ru.wikipedia.org/wiki/Fizz_buzz\n",
    "Начинающий произносит число “1”, и каждый следующий игрок прибавляет к предыдущему значению единицу. Когда число делится на три оно заменяется на fizz, если число делится на пять, то произносится buzz. Числа, делящиеся на три и пять одновременно заменяются на fizz buzz. Сделавший ошибку игрок исключается из игры.\n",
    "Типичная партия в fizz buzz выглядит так:\n",
    "1, 2, Fizz, 4, Buzz, Fizz, 7, 8, Fizz, Buzz, 11, Fizz, 13, 14, Fizz Buzz, 16, 17, Fizz, 19, Buzz, Fizz, 22, 23, Fizz, Buzz, 26, Fizz, 28, 29, Fizz Buzz, 31, 32, Fizz, 34, Buzz, Fizz, …\n",
    "Напишите код, выводящий на экран первые n элементов этой игры (естественно, корректные)."
   ]
  },
  {
   "cell_type": "code",
   "execution_count": 2,
   "metadata": {},
   "outputs": [
    {
     "name": "stdout",
     "output_type": "stream",
     "text": [
      "17\n",
      "[1, 2, 'Fizz', 4, 'Buzz', 'Fizz', 7, 8, 'Fizz', 'Buzz', 11, 'Fizz', 13, 14, 'Fizz Buzz', 16, 17]\n"
     ]
    }
   ],
   "source": [
    "n=int(input())\n",
    "i=1\n",
    "spisok=[]\n",
    "while i<=n:\n",
    "    if (i%3==0 and i%5==0):\n",
    "        j='Fizz Buzz'\n",
    "        spisok+=[j]\n",
    "    elif i%3==0:\n",
    "        j='Fizz'\n",
    "        spisok+=[j]\n",
    "    elif i%5==0:\n",
    "        j='Buzz'\n",
    "        spisok+=[j]\n",
    "    else:\n",
    "        spisok+=[i]\n",
    "    i+=1\n",
    "print(spisok)"
   ]
  }
 ],
 "metadata": {
  "kernelspec": {
   "display_name": "Python 3",
   "language": "python",
   "name": "python3"
  },
  "language_info": {
   "codemirror_mode": {
    "name": "ipython",
    "version": 3
   },
   "file_extension": ".py",
   "mimetype": "text/x-python",
   "name": "python",
   "nbconvert_exporter": "python",
   "pygments_lexer": "ipython3",
   "version": "3.7.3"
  }
 },
 "nbformat": 4,
 "nbformat_minor": 2
}
