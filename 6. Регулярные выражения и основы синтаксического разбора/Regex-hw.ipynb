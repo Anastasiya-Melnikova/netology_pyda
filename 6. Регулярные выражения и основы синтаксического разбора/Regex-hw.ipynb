{
 "cells": [
  {
   "cell_type": "markdown",
   "metadata": {},
   "source": [
    "# Домашнее задание к лекции \"Регулярные выражения\"\n",
    "Для зачета необходимо выполнить 4 задания.  \n",
    "Для зачета с отличием – все."
   ]
  },
  {
   "cell_type": "markdown",
   "metadata": {},
   "source": [
    "## Задание 1"
   ]
  },
  {
   "cell_type": "markdown",
   "metadata": {},
   "source": [
    "Напишите функцию, которая принимает на вход строку и проверяет является ли она валидным транспортным номером. Если да, то функция должна возвращать отдельно номер и регион."
   ]
  },
  {
   "cell_type": "code",
   "execution_count": 43,
   "metadata": {},
   "outputs": [
    {
     "name": "stdout",
     "output_type": "stream",
     "text": [
      "Введите рег.номер: А123ВЕ777RUS\n",
      "Номер: 123, Регион: 777\n"
     ]
    }
   ],
   "source": [
    "import re\n",
    "def registration_number(number):\n",
    "    if re.findall('[АВЕКМНОРСТУХ]{1}[0-9]{3}[АВЕКМНОРСТУХ]{2}[0-9]{2,3}RUS', number):\n",
    "        return re.sub(r'([АВЕКМНОРСТУХ]{1})([0-9]{3})([АВЕКМНОРСТУХ]{2})([0-9]{2,3})(RUS)', r'Номер: \\2, Регион: \\4', number)\n",
    "print(registration_number(input('Введите рег.номер: ')))\n",
    "#print(registration_number(А123ВЕ777RUS))"
   ]
  },
  {
   "cell_type": "markdown",
   "metadata": {},
   "source": [
    "## Задание 2"
   ]
  },
  {
   "cell_type": "markdown",
   "metadata": {},
   "source": [
    "Напишите функцию, которая проверяет e-mail адрес на валидность по стандарту RFC822: http://www.w3.org/Protocols/rfc822/. Для этого постарайтесь написать (в крайнем случае найти) самый полный шаблон для проверки e-mail адресов через регулярное выражение. Разберитесь и напишите примеры, какие ваш шаблон может не охватить."
   ]
  },
  {
   "cell_type": "code",
   "execution_count": 42,
   "metadata": {},
   "outputs": [
    {
     "name": "stdout",
     "output_type": "stream",
     "text": [
      "e-mail n.john.smith@gmail.com валиден\n",
      "e-mail  87victory@hotmail.com валиден\n",
      "e-mail  !#mary-=@msca.net невалиден\n"
     ]
    }
   ],
   "source": [
    "def email(emails):\n",
    "    list_email = emails.split(',')\n",
    "    for e_mail in list_email:\n",
    "        if re.search('([a-zA-Z0-9_\\.-]+)(@)([a-zA-Z0-9-\\.]+)(\\.)([a-zA-Z]{1,3})', e_mail):\n",
    "            print(f'e-mail {e_mail} валиден')\n",
    "        else:\n",
    "            print(f'e-mail {e_mail} невалиден')\n",
    "email('n.john.smith@gmail.com, 87victory@hotmail.com, !#mary-=@msca.net')"
   ]
  },
  {
   "cell_type": "markdown",
   "metadata": {},
   "source": [
    "Шаблон не охватывает случаи:\n",
    "- когда в имени пользователя встречаются символы, отличные от букв, цифр, _, - и .\n",
    "- когда в доменном имени будут идти подряд несколько . или несколько -\n",
    "- когда доменное имя превысит допустимые 63 символа"
   ]
  },
  {
   "cell_type": "markdown",
   "metadata": {},
   "source": [
    "## Задание 3\n",
    "Напишите функцию, которая будет удалять все последовательные повторы слов из заданной строки."
   ]
  },
  {
   "cell_type": "code",
   "execution_count": 36,
   "metadata": {},
   "outputs": [
    {
     "name": "stdout",
     "output_type": "stream",
     "text": [
      "Введите текст: It is my my my december December\n",
      "It is my december\n"
     ]
    }
   ],
   "source": [
    "def repeat_words(text):\n",
    "#    text = text.lower()\n",
    "    if re.findall(r'\\b(\\w+)(\\s+\\1)+\\b', text, flags=re.I):\n",
    "        return re.sub(r'\\b(\\w+)(\\s+\\1)+\\b', r'\\1', text, flags=re.I)\n",
    "print(repeat_words(input('Введите текст: ')))"
   ]
  },
  {
   "cell_type": "markdown",
   "metadata": {},
   "source": [
    "## Задание 4\n",
    "Напишите функцию, которая будет проверять номер сотового телефона на валидность, если он валиден, то переводить его в формат:   \n",
    "+7(xxx)-xxx-xx-xx  \n",
    "Постарайтесь предусмотреть как можно больше адекватных форматов изначального ввода номера.\n",
    "Примеры правильных и неправильных форматов:\n",
    "- +7 955 555-55-55;\n",
    "- 955555555;\n",
    "- 8(955)555-55-55;\n",
    "- +7 955 555 55 55;\n",
    "- 7(955) 555-55-55;\n",
    "- +7 955+555+55+55."
   ]
  },
  {
   "cell_type": "code",
   "execution_count": 24,
   "metadata": {},
   "outputs": [
    {
     "name": "stdout",
     "output_type": "stream",
     "text": [
      "Номер валиден: +7(955)-555-55-55\n",
      "Номер невалиден:  955555555\n",
      " Номер валиден: +7(955)-555-55-55\n",
      " Номер валиден: +7(955)-555-55-55\n",
      " Номер валиден: +7(955)-555-55-55\n",
      "Номер невалиден:  +7 955+555+55+55\n"
     ]
    }
   ],
   "source": [
    "def phone(number):\n",
    "    list_number = number.split(',')\n",
    "    for numbers in list_number:\n",
    "        if re.search(r'(\\+?)(7|8)([\\(\\s-]{0,2})(9\\d\\d)([\\)\\s-]{0,2})(\\d{3})([\\s-]?)(\\d{2})([\\s-]?)(\\d{2})', numbers): \n",
    "            print(re.sub(r'(\\+?)(7|8)([\\(\\s-]{0,2})(9\\d\\d)([\\)\\s-]{0,2})(\\d{3})([\\s-]?)(\\d{2})([\\s-]?)(\\d{2})', r'Номер валиден: +7(\\4)-\\6-\\8-\\10', numbers))\n",
    "        else:\n",
    "            print(f'Номер невалиден: {numbers}')\n",
    "phone('+7 955 555-55-55, 955555555, 8(955)555-55-55, +7 955 555 55 55, 7(955) 555-55-55, +7 955+555+55+55')      "
   ]
  }
 ],
 "metadata": {
  "kernelspec": {
   "display_name": "Python 3",
   "language": "python",
   "name": "python3"
  },
  "language_info": {
   "codemirror_mode": {
    "name": "ipython",
    "version": 3
   },
   "file_extension": ".py",
   "mimetype": "text/x-python",
   "name": "python",
   "nbconvert_exporter": "python",
   "pygments_lexer": "ipython3",
   "version": "3.7.3"
  }
 },
 "nbformat": 4,
 "nbformat_minor": 2
}
