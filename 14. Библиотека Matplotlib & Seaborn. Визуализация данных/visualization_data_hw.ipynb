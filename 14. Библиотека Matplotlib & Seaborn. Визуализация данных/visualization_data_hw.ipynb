{
 "cells": [
  {
   "cell_type": "markdown",
   "metadata": {},
   "source": [
    "Домашнее задание \"Визуализация данных в Python\"\n",
    "\n",
    "Построить 5 графиков по выбранным данным. \n",
    "\n",
    "Графики должны быть различных видов и использовать хотя бы 2 из рассмотренных на занятии библиотек. \n",
    "\n",
    "Для каждого описать, какого типа переменные участвуют в визуализации, какова её цель (например, посмотреть на корреляцию двух величин или на распределение значений) и почему выбрали именно такой тип графика."
   ]
  },
  {
   "cell_type": "code",
   "execution_count": 36,
   "metadata": {},
   "outputs": [],
   "source": [
    "from pylab import rcParams\n",
    "rcParams['figure.figsize'] = 10,7"
   ]
  },
  {
   "cell_type": "code",
   "execution_count": 37,
   "metadata": {},
   "outputs": [],
   "source": [
    "import pandas as pd\n",
    "import matplotlib.pyplot as plt\n",
    "import seaborn as sns"
   ]
  },
  {
   "cell_type": "code",
   "execution_count": 38,
   "metadata": {},
   "outputs": [],
   "source": [
    "import numpy as np"
   ]
  },
  {
   "cell_type": "code",
   "execution_count": 39,
   "metadata": {},
   "outputs": [
    {
     "data": {
      "text/html": [
       "<div>\n",
       "<style scoped>\n",
       "    .dataframe tbody tr th:only-of-type {\n",
       "        vertical-align: middle;\n",
       "    }\n",
       "\n",
       "    .dataframe tbody tr th {\n",
       "        vertical-align: top;\n",
       "    }\n",
       "\n",
       "    .dataframe thead th {\n",
       "        text-align: right;\n",
       "    }\n",
       "</style>\n",
       "<table border=\"1\" class=\"dataframe\">\n",
       "  <thead>\n",
       "    <tr style=\"text-align: right;\">\n",
       "      <th></th>\n",
       "      <th>App Name</th>\n",
       "      <th>Category</th>\n",
       "      <th>Rating</th>\n",
       "      <th>Reviews</th>\n",
       "      <th>Installs</th>\n",
       "      <th>Size</th>\n",
       "      <th>Price</th>\n",
       "      <th>Content Rating</th>\n",
       "      <th>Last Updated</th>\n",
       "      <th>Minimum Version</th>\n",
       "      <th>Latest Version</th>\n",
       "    </tr>\n",
       "  </thead>\n",
       "  <tbody>\n",
       "    <tr>\n",
       "      <th>0</th>\n",
       "      <td>DoorDash - Food Delivery</td>\n",
       "      <td>FOOD_AND_DRINK</td>\n",
       "      <td>4.548561573</td>\n",
       "      <td>305034.0</td>\n",
       "      <td>5,000,000+</td>\n",
       "      <td>Varies with device</td>\n",
       "      <td>0</td>\n",
       "      <td>Everyone</td>\n",
       "      <td>March 29, 2019</td>\n",
       "      <td>Varies with device</td>\n",
       "      <td>Varies with device</td>\n",
       "    </tr>\n",
       "    <tr>\n",
       "      <th>1</th>\n",
       "      <td>TripAdvisor Hotels Flights Restaurants Attract...</td>\n",
       "      <td>TRAVEL_AND_LOCAL</td>\n",
       "      <td>4.400671482</td>\n",
       "      <td>1207922.0</td>\n",
       "      <td>100,000,000+</td>\n",
       "      <td>Varies with device</td>\n",
       "      <td>0</td>\n",
       "      <td>Everyone</td>\n",
       "      <td>March 29, 2019</td>\n",
       "      <td>Varies with device</td>\n",
       "      <td>Varies with device</td>\n",
       "    </tr>\n",
       "    <tr>\n",
       "      <th>2</th>\n",
       "      <td>Peapod</td>\n",
       "      <td>SHOPPING</td>\n",
       "      <td>3.656329393</td>\n",
       "      <td>1967.0</td>\n",
       "      <td>100,000+</td>\n",
       "      <td>1.4M</td>\n",
       "      <td>0</td>\n",
       "      <td>Everyone</td>\n",
       "      <td>September 20, 2018</td>\n",
       "      <td>5.0 and up</td>\n",
       "      <td>2.2.0</td>\n",
       "    </tr>\n",
       "    <tr>\n",
       "      <th>3</th>\n",
       "      <td>foodpanda - Local Food Delivery</td>\n",
       "      <td>FOOD_AND_DRINK</td>\n",
       "      <td>4.107232571</td>\n",
       "      <td>389154.0</td>\n",
       "      <td>10,000,000+</td>\n",
       "      <td>16M</td>\n",
       "      <td>0</td>\n",
       "      <td>Everyone</td>\n",
       "      <td>March 22, 2019</td>\n",
       "      <td>4.2 and up</td>\n",
       "      <td>4.18.2</td>\n",
       "    </tr>\n",
       "    <tr>\n",
       "      <th>4</th>\n",
       "      <td>My CookBook Pro (Ad Free)</td>\n",
       "      <td>FOOD_AND_DRINK</td>\n",
       "      <td>4.647752285</td>\n",
       "      <td>2291.0</td>\n",
       "      <td>10,000+</td>\n",
       "      <td>Varies with device</td>\n",
       "      <td>$5.99</td>\n",
       "      <td>Everyone</td>\n",
       "      <td>April 1, 2019</td>\n",
       "      <td>Varies with device</td>\n",
       "      <td>Varies with device</td>\n",
       "    </tr>\n",
       "  </tbody>\n",
       "</table>\n",
       "</div>"
      ],
      "text/plain": [
       "                                            App Name          Category  \\\n",
       "0                           DoorDash - Food Delivery    FOOD_AND_DRINK   \n",
       "1  TripAdvisor Hotels Flights Restaurants Attract...  TRAVEL_AND_LOCAL   \n",
       "2                                             Peapod          SHOPPING   \n",
       "3                    foodpanda - Local Food Delivery    FOOD_AND_DRINK   \n",
       "4                          My CookBook Pro (Ad Free)    FOOD_AND_DRINK   \n",
       "\n",
       "        Rating    Reviews      Installs                Size  Price  \\\n",
       "0  4.548561573   305034.0    5,000,000+  Varies with device      0   \n",
       "1  4.400671482  1207922.0  100,000,000+  Varies with device      0   \n",
       "2  3.656329393     1967.0      100,000+                1.4M      0   \n",
       "3  4.107232571   389154.0   10,000,000+                 16M      0   \n",
       "4  4.647752285     2291.0       10,000+  Varies with device  $5.99   \n",
       "\n",
       "  Content Rating        Last Updated     Minimum Version      Latest Version  \n",
       "0       Everyone      March 29, 2019  Varies with device  Varies with device  \n",
       "1       Everyone      March 29, 2019  Varies with device  Varies with device  \n",
       "2       Everyone  September 20, 2018          5.0 and up               2.2.0  \n",
       "3       Everyone      March 22, 2019          4.2 and up              4.18.2  \n",
       "4       Everyone       April 1, 2019  Varies with device  Varies with device  "
      ]
     },
     "execution_count": 39,
     "metadata": {},
     "output_type": "execute_result"
    }
   ],
   "source": [
    "df_app = pd.read_csv('Google-Playstore-32K/Google-Playstore-32K.csv')\n",
    "df_app.head()"
   ]
  },
  {
   "cell_type": "code",
   "execution_count": 40,
   "metadata": {},
   "outputs": [
    {
     "data": {
      "text/plain": [
       "array(['5,000,000+', '100,000,000+', '100,000+', '10,000,000+', '10,000+',\n",
       "       '1,000,000+', '50,000,000+', '500,000+', '50,000+', '5,000+',\n",
       "       '1,000+', '500,000,000+', '1,000,000,000+', '5,000,000,000+',\n",
       "       '100+', '500+', '50+', '5+', '10+', '1+', 'EDUCATION', '6',\n",
       "       '11976', '0+'], dtype=object)"
      ]
     },
     "execution_count": 40,
     "metadata": {},
     "output_type": "execute_result"
    }
   ],
   "source": [
    "df_app['Installs'].unique()"
   ]
  },
  {
   "cell_type": "code",
   "execution_count": 41,
   "metadata": {},
   "outputs": [],
   "source": [
    "df_app = df_app.drop(np.where(df_app['Installs'] == 'EDUCATION')[0])"
   ]
  },
  {
   "cell_type": "code",
   "execution_count": 42,
   "metadata": {},
   "outputs": [],
   "source": [
    "df_app['Installs'] = df_app['Installs'].str.replace('+', '')\n",
    "df_app['Installs'] = df_app['Installs'].str.replace(',', '')\n",
    "df_app['Installs'] = df_app.Installs.astype('int64')"
   ]
  },
  {
   "cell_type": "code",
   "execution_count": 43,
   "metadata": {},
   "outputs": [],
   "source": [
    "df_app['Rating'] = df_app[~df_app['Rating'].isin(['GAME_STRATEGY', 'NEWS_AND_MAGAZINES'])][['Rating']].astype('float64')\n",
    "df_app.loc[(df_app['Rating'] < 2.5), 'Rating_class'] = 'Низкий'\n",
    "df_app.loc[((df_app['Rating'] >= 2.5) & (df_app['Rating'] < 4)), 'Rating_class'] = 'Средний'\n",
    "df_app.loc[(df_app['Rating'] >= 4), 'Rating_class'] = 'Высокий'"
   ]
  },
  {
   "cell_type": "code",
   "execution_count": 44,
   "metadata": {},
   "outputs": [],
   "source": [
    "df_app.loc[pd.isnull(df_app['Rating_class']), 'Rating_class'] = 'Средний'"
   ]
  },
  {
   "cell_type": "code",
   "execution_count": 45,
   "metadata": {},
   "outputs": [
    {
     "data": {
      "text/html": [
       "<div>\n",
       "<style scoped>\n",
       "    .dataframe tbody tr th:only-of-type {\n",
       "        vertical-align: middle;\n",
       "    }\n",
       "\n",
       "    .dataframe tbody tr th {\n",
       "        vertical-align: top;\n",
       "    }\n",
       "\n",
       "    .dataframe thead th {\n",
       "        text-align: right;\n",
       "    }\n",
       "</style>\n",
       "<table border=\"1\" class=\"dataframe\">\n",
       "  <thead>\n",
       "    <tr style=\"text-align: right;\">\n",
       "      <th></th>\n",
       "      <th>App Name</th>\n",
       "      <th>Category</th>\n",
       "      <th>Rating</th>\n",
       "      <th>Reviews</th>\n",
       "      <th>Installs</th>\n",
       "      <th>Size</th>\n",
       "      <th>Price</th>\n",
       "      <th>Content Rating</th>\n",
       "      <th>Last Updated</th>\n",
       "      <th>Minimum Version</th>\n",
       "      <th>Latest Version</th>\n",
       "      <th>Rating_class</th>\n",
       "    </tr>\n",
       "  </thead>\n",
       "  <tbody>\n",
       "    <tr>\n",
       "      <th>0</th>\n",
       "      <td>DoorDash - Food Delivery</td>\n",
       "      <td>FOOD_AND_DRINK</td>\n",
       "      <td>4.548562</td>\n",
       "      <td>305034.0</td>\n",
       "      <td>5000000</td>\n",
       "      <td>Varies with device</td>\n",
       "      <td>0</td>\n",
       "      <td>Everyone</td>\n",
       "      <td>March 29, 2019</td>\n",
       "      <td>Varies with device</td>\n",
       "      <td>Varies with device</td>\n",
       "      <td>Высокий</td>\n",
       "    </tr>\n",
       "    <tr>\n",
       "      <th>1</th>\n",
       "      <td>TripAdvisor Hotels Flights Restaurants Attract...</td>\n",
       "      <td>TRAVEL_AND_LOCAL</td>\n",
       "      <td>4.400671</td>\n",
       "      <td>1207922.0</td>\n",
       "      <td>100000000</td>\n",
       "      <td>Varies with device</td>\n",
       "      <td>0</td>\n",
       "      <td>Everyone</td>\n",
       "      <td>March 29, 2019</td>\n",
       "      <td>Varies with device</td>\n",
       "      <td>Varies with device</td>\n",
       "      <td>Высокий</td>\n",
       "    </tr>\n",
       "    <tr>\n",
       "      <th>2</th>\n",
       "      <td>Peapod</td>\n",
       "      <td>SHOPPING</td>\n",
       "      <td>3.656329</td>\n",
       "      <td>1967.0</td>\n",
       "      <td>100000</td>\n",
       "      <td>1.4M</td>\n",
       "      <td>0</td>\n",
       "      <td>Everyone</td>\n",
       "      <td>September 20, 2018</td>\n",
       "      <td>5.0 and up</td>\n",
       "      <td>2.2.0</td>\n",
       "      <td>Средний</td>\n",
       "    </tr>\n",
       "    <tr>\n",
       "      <th>3</th>\n",
       "      <td>foodpanda - Local Food Delivery</td>\n",
       "      <td>FOOD_AND_DRINK</td>\n",
       "      <td>4.107233</td>\n",
       "      <td>389154.0</td>\n",
       "      <td>10000000</td>\n",
       "      <td>16M</td>\n",
       "      <td>0</td>\n",
       "      <td>Everyone</td>\n",
       "      <td>March 22, 2019</td>\n",
       "      <td>4.2 and up</td>\n",
       "      <td>4.18.2</td>\n",
       "      <td>Высокий</td>\n",
       "    </tr>\n",
       "    <tr>\n",
       "      <th>4</th>\n",
       "      <td>My CookBook Pro (Ad Free)</td>\n",
       "      <td>FOOD_AND_DRINK</td>\n",
       "      <td>4.647752</td>\n",
       "      <td>2291.0</td>\n",
       "      <td>10000</td>\n",
       "      <td>Varies with device</td>\n",
       "      <td>$5.99</td>\n",
       "      <td>Everyone</td>\n",
       "      <td>April 1, 2019</td>\n",
       "      <td>Varies with device</td>\n",
       "      <td>Varies with device</td>\n",
       "      <td>Высокий</td>\n",
       "    </tr>\n",
       "  </tbody>\n",
       "</table>\n",
       "</div>"
      ],
      "text/plain": [
       "                                            App Name          Category  \\\n",
       "0                           DoorDash - Food Delivery    FOOD_AND_DRINK   \n",
       "1  TripAdvisor Hotels Flights Restaurants Attract...  TRAVEL_AND_LOCAL   \n",
       "2                                             Peapod          SHOPPING   \n",
       "3                    foodpanda - Local Food Delivery    FOOD_AND_DRINK   \n",
       "4                          My CookBook Pro (Ad Free)    FOOD_AND_DRINK   \n",
       "\n",
       "     Rating    Reviews   Installs                Size  Price Content Rating  \\\n",
       "0  4.548562   305034.0    5000000  Varies with device      0       Everyone   \n",
       "1  4.400671  1207922.0  100000000  Varies with device      0       Everyone   \n",
       "2  3.656329     1967.0     100000                1.4M      0       Everyone   \n",
       "3  4.107233   389154.0   10000000                 16M      0       Everyone   \n",
       "4  4.647752     2291.0      10000  Varies with device  $5.99       Everyone   \n",
       "\n",
       "         Last Updated     Minimum Version      Latest Version Rating_class  \n",
       "0      March 29, 2019  Varies with device  Varies with device      Высокий  \n",
       "1      March 29, 2019  Varies with device  Varies with device      Высокий  \n",
       "2  September 20, 2018          5.0 and up               2.2.0      Средний  \n",
       "3      March 22, 2019          4.2 and up              4.18.2      Высокий  \n",
       "4       April 1, 2019  Varies with device  Varies with device      Высокий  "
      ]
     },
     "execution_count": 45,
     "metadata": {},
     "output_type": "execute_result"
    }
   ],
   "source": [
    "df_app.head()"
   ]
  },
  {
   "cell_type": "code",
   "execution_count": 46,
   "metadata": {},
   "outputs": [
    {
     "data": {
      "text/html": [
       "<div>\n",
       "<style scoped>\n",
       "    .dataframe tbody tr th:only-of-type {\n",
       "        vertical-align: middle;\n",
       "    }\n",
       "\n",
       "    .dataframe tbody tr th {\n",
       "        vertical-align: top;\n",
       "    }\n",
       "\n",
       "    .dataframe thead th {\n",
       "        text-align: right;\n",
       "    }\n",
       "</style>\n",
       "<table border=\"1\" class=\"dataframe\">\n",
       "  <thead>\n",
       "    <tr style=\"text-align: right;\">\n",
       "      <th></th>\n",
       "      <th>App Name</th>\n",
       "      <th>Category</th>\n",
       "      <th>Rating</th>\n",
       "      <th>Reviews</th>\n",
       "      <th>Installs</th>\n",
       "      <th>Size</th>\n",
       "      <th>Price</th>\n",
       "      <th>Content Rating</th>\n",
       "      <th>Last Updated</th>\n",
       "      <th>Minimum Version</th>\n",
       "      <th>Latest Version</th>\n",
       "      <th>Rating_class</th>\n",
       "    </tr>\n",
       "  </thead>\n",
       "  <tbody>\n",
       "    <tr>\n",
       "      <th>671</th>\n",
       "      <td>WhatsApp Messenger</td>\n",
       "      <td>COMMUNICATION</td>\n",
       "      <td>4.417610</td>\n",
       "      <td>86214292.0</td>\n",
       "      <td>1000000000</td>\n",
       "      <td>Varies with device</td>\n",
       "      <td>0</td>\n",
       "      <td>Everyone</td>\n",
       "      <td>March 27, 2019</td>\n",
       "      <td>Varies with device</td>\n",
       "      <td>Varies with device</td>\n",
       "      <td>Высокий</td>\n",
       "    </tr>\n",
       "    <tr>\n",
       "      <th>704</th>\n",
       "      <td>Facebook</td>\n",
       "      <td>SOCIAL</td>\n",
       "      <td>4.087946</td>\n",
       "      <td>85766433.0</td>\n",
       "      <td>1000000000</td>\n",
       "      <td>Varies with device</td>\n",
       "      <td>0</td>\n",
       "      <td>Teen</td>\n",
       "      <td>April 2, 2019</td>\n",
       "      <td>Varies with device</td>\n",
       "      <td>Varies with device</td>\n",
       "      <td>Высокий</td>\n",
       "    </tr>\n",
       "    <tr>\n",
       "      <th>653</th>\n",
       "      <td>Instagram</td>\n",
       "      <td>SOCIAL</td>\n",
       "      <td>4.519560</td>\n",
       "      <td>79726403.0</td>\n",
       "      <td>1000000000</td>\n",
       "      <td>Varies with device</td>\n",
       "      <td>0</td>\n",
       "      <td>Teen</td>\n",
       "      <td>April 2, 2019</td>\n",
       "      <td>Varies with device</td>\n",
       "      <td>Varies with device</td>\n",
       "      <td>Высокий</td>\n",
       "    </tr>\n",
       "    <tr>\n",
       "      <th>632</th>\n",
       "      <td>Messenger � Text and Video Chat for Free</td>\n",
       "      <td>COMMUNICATION</td>\n",
       "      <td>4.085856</td>\n",
       "      <td>65469531.0</td>\n",
       "      <td>1000000000</td>\n",
       "      <td>Varies with device</td>\n",
       "      <td>0</td>\n",
       "      <td>Everyone</td>\n",
       "      <td>April 2, 2019</td>\n",
       "      <td>Varies with device</td>\n",
       "      <td>Varies with device</td>\n",
       "      <td>Высокий</td>\n",
       "    </tr>\n",
       "    <tr>\n",
       "      <th>628</th>\n",
       "      <td>Clash of Clans</td>\n",
       "      <td>GAME_STRATEGY</td>\n",
       "      <td>4.606215</td>\n",
       "      <td>48401470.0</td>\n",
       "      <td>500000000</td>\n",
       "      <td>103M</td>\n",
       "      <td>0</td>\n",
       "      <td>Everyone 10+</td>\n",
       "      <td>April 2, 2019</td>\n",
       "      <td>4.1 and up</td>\n",
       "      <td>11.446.11</td>\n",
       "      <td>Высокий</td>\n",
       "    </tr>\n",
       "    <tr>\n",
       "      <th>7064</th>\n",
       "      <td>Clean Master - Antivirus, Applock &amp; Cleaner</td>\n",
       "      <td>TOOLS</td>\n",
       "      <td>4.657038</td>\n",
       "      <td>44171776.0</td>\n",
       "      <td>1000000000</td>\n",
       "      <td>20M</td>\n",
       "      <td>0</td>\n",
       "      <td>Everyone</td>\n",
       "      <td>April 1, 2019</td>\n",
       "      <td>Varies with device</td>\n",
       "      <td>7.0.6</td>\n",
       "      <td>Высокий</td>\n",
       "    </tr>\n",
       "    <tr>\n",
       "      <th>813</th>\n",
       "      <td>YouTube</td>\n",
       "      <td>VIDEO_PLAYERS</td>\n",
       "      <td>4.368428</td>\n",
       "      <td>41919102.0</td>\n",
       "      <td>5000000000</td>\n",
       "      <td>Varies with device</td>\n",
       "      <td>0</td>\n",
       "      <td>Teen</td>\n",
       "      <td>April 2, 2019</td>\n",
       "      <td>Varies with device</td>\n",
       "      <td>Varies with device</td>\n",
       "      <td>Высокий</td>\n",
       "    </tr>\n",
       "    <tr>\n",
       "      <th>539</th>\n",
       "      <td>Subway Surfers</td>\n",
       "      <td>GAME_ARCADE</td>\n",
       "      <td>4.498131</td>\n",
       "      <td>29834812.0</td>\n",
       "      <td>1000000000</td>\n",
       "      <td>85M</td>\n",
       "      <td>0</td>\n",
       "      <td>Everyone 10+</td>\n",
       "      <td>March 7, 2019</td>\n",
       "      <td>4.1 and up</td>\n",
       "      <td>1.100.0</td>\n",
       "      <td>Высокий</td>\n",
       "    </tr>\n",
       "    <tr>\n",
       "      <th>12638</th>\n",
       "      <td>Security Master - Antivirus, VPN, AppLock, Boo...</td>\n",
       "      <td>TOOLS</td>\n",
       "      <td>4.652842</td>\n",
       "      <td>25532160.0</td>\n",
       "      <td>500000000</td>\n",
       "      <td>Varies with device</td>\n",
       "      <td>0</td>\n",
       "      <td>Everyone</td>\n",
       "      <td>March 29, 2019</td>\n",
       "      <td>Varies with device</td>\n",
       "      <td>4.9.1</td>\n",
       "      <td>Высокий</td>\n",
       "    </tr>\n",
       "    <tr>\n",
       "      <th>1542</th>\n",
       "      <td>Clash Royale</td>\n",
       "      <td>GAME_STRATEGY</td>\n",
       "      <td>4.545474</td>\n",
       "      <td>25449254.0</td>\n",
       "      <td>100000000</td>\n",
       "      <td>81M</td>\n",
       "      <td>0</td>\n",
       "      <td>Everyone 10+</td>\n",
       "      <td>February 13, 2019</td>\n",
       "      <td>4.1 and up</td>\n",
       "      <td>2.6.1</td>\n",
       "      <td>Высокий</td>\n",
       "    </tr>\n",
       "  </tbody>\n",
       "</table>\n",
       "</div>"
      ],
      "text/plain": [
       "                                                App Name       Category  \\\n",
       "671                                   WhatsApp Messenger  COMMUNICATION   \n",
       "704                                             Facebook         SOCIAL   \n",
       "653                                            Instagram         SOCIAL   \n",
       "632             Messenger � Text and Video Chat for Free  COMMUNICATION   \n",
       "628                                       Clash of Clans  GAME_STRATEGY   \n",
       "7064         Clean Master - Antivirus, Applock & Cleaner          TOOLS   \n",
       "813                                              YouTube  VIDEO_PLAYERS   \n",
       "539                                       Subway Surfers    GAME_ARCADE   \n",
       "12638  Security Master - Antivirus, VPN, AppLock, Boo...          TOOLS   \n",
       "1542                                        Clash Royale  GAME_STRATEGY   \n",
       "\n",
       "         Rating     Reviews    Installs                Size Price  \\\n",
       "671    4.417610  86214292.0  1000000000  Varies with device     0   \n",
       "704    4.087946  85766433.0  1000000000  Varies with device     0   \n",
       "653    4.519560  79726403.0  1000000000  Varies with device     0   \n",
       "632    4.085856  65469531.0  1000000000  Varies with device     0   \n",
       "628    4.606215  48401470.0   500000000                103M     0   \n",
       "7064   4.657038  44171776.0  1000000000                 20M     0   \n",
       "813    4.368428  41919102.0  5000000000  Varies with device     0   \n",
       "539    4.498131  29834812.0  1000000000                 85M     0   \n",
       "12638  4.652842  25532160.0   500000000  Varies with device     0   \n",
       "1542   4.545474  25449254.0   100000000                 81M     0   \n",
       "\n",
       "      Content Rating       Last Updated     Minimum Version  \\\n",
       "671         Everyone     March 27, 2019  Varies with device   \n",
       "704             Teen      April 2, 2019  Varies with device   \n",
       "653             Teen      April 2, 2019  Varies with device   \n",
       "632         Everyone      April 2, 2019  Varies with device   \n",
       "628     Everyone 10+      April 2, 2019          4.1 and up   \n",
       "7064        Everyone      April 1, 2019  Varies with device   \n",
       "813             Teen      April 2, 2019  Varies with device   \n",
       "539     Everyone 10+      March 7, 2019          4.1 and up   \n",
       "12638       Everyone     March 29, 2019  Varies with device   \n",
       "1542    Everyone 10+  February 13, 2019          4.1 and up   \n",
       "\n",
       "           Latest Version Rating_class  \n",
       "671    Varies with device      Высокий  \n",
       "704    Varies with device      Высокий  \n",
       "653    Varies with device      Высокий  \n",
       "632    Varies with device      Высокий  \n",
       "628             11.446.11      Высокий  \n",
       "7064                7.0.6      Высокий  \n",
       "813    Varies with device      Высокий  \n",
       "539               1.100.0      Высокий  \n",
       "12638               4.9.1      Высокий  \n",
       "1542                2.6.1      Высокий  "
      ]
     },
     "execution_count": 46,
     "metadata": {},
     "output_type": "execute_result"
    }
   ],
   "source": [
    "# топ-10 по доходности\n",
    "df_app_bar = df_app.sort_values('Reviews', ascending = False).head(10)\n",
    "df_app_bar"
   ]
  },
  {
   "cell_type": "code",
   "execution_count": 13,
   "metadata": {},
   "outputs": [
    {
     "data": {
      "text/plain": [
       "Text(0.5, 1.0, 'Top 10 most profitable apps')"
      ]
     },
     "execution_count": 13,
     "metadata": {},
     "output_type": "execute_result"
    },
    {
     "data": {
      "image/png": "[encoded data removed]",
      "text/plain": [
       "<Figure size 432x288 with 1 Axes>"
      ]
     },
     "metadata": {
      "needs_background": "light"
     },
     "output_type": "display_data"
    }
   ],
   "source": [
    "plt.barh(df_app_bar['App Name'], df_app_bar['Reviews'])\n",
    "plt.xlabel('Review')\n",
    "plt.ylabel('App Name')\n",
    "plt.title('Top 10 most profitable apps')"
   ]
  },
  {
   "cell_type": "markdown",
   "metadata": {},
   "source": [
    "На данной диаграмме выводятся топ-10 приложений, приносящих наибольший доход. Дает наглядное представление о сумме дохода в сравнении с другими приложениями"
   ]
  },
  {
   "cell_type": "code",
   "execution_count": 14,
   "metadata": {},
   "outputs": [
    {
     "data": {
      "text/plain": [
       "<matplotlib.axes._subplots.AxesSubplot at 0x1c6f1dfc048>"
      ]
     },
     "execution_count": 14,
     "metadata": {},
     "output_type": "execute_result"
    },
    {
     "data": {
      "image/png": "[encoded data removed]",
      "text/plain": [
       "<Figure size 1080x576 with 1 Axes>"
      ]
     },
     "metadata": {
      "needs_background": "light"
     },
     "output_type": "display_data"
    }
   ],
   "source": [
    "#количество скачиваний по категориям в зависимости от рейтинга\n",
    "count_download = df_app.groupby([df_app.Category, 'Rating_class'])[['Installs']].sum().sort_values(by = 'Category', ascending = False)\n",
    "count_download.unstack('Rating_class').plot(kind='bar', stacked=True, figsize = (15,8))"
   ]
  },
  {
   "cell_type": "markdown",
   "metadata": {},
   "source": [
    "Из визуализации видим наиболее популярные приложения, а также видим, что большинство приложений имеет высокие рейтинги, и зависимость частоты скачивания от рейтинга не просматривается."
   ]
  },
  {
   "cell_type": "code",
   "execution_count": 15,
   "metadata": {},
   "outputs": [
    {
     "data": {
      "text/plain": [
       "<matplotlib.collections.PathCollection at 0x1c6f236efd0>"
      ]
     },
     "execution_count": 15,
     "metadata": {},
     "output_type": "execute_result"
    },
    {
     "data": {
      "image/png": "[encoded data removed]",
      "text/plain": [
       "<Figure size 432x288 with 1 Axes>"
      ]
     },
     "metadata": {
      "needs_background": "light"
     },
     "output_type": "display_data"
    }
   ],
   "source": [
    "# взаимосвязь доходности приложения и его рейтинга\n",
    "Rating = df_app['Rating']\n",
    "Reviews = df_app['Reviews']\n",
    "plt.xlabel('Rating')\n",
    "plt.ylabel('Reviews')\n",
    "plt.scatter(Rating, Reviews)"
   ]
  },
  {
   "cell_type": "markdown",
   "metadata": {},
   "source": [
    "На данном графике можно наблюдать, что наиболее прибыльными являются приложения с высокими рейтингами, но максимальные доходы приносят приложения с рейтингами, близкими к средним."
   ]
  },
  {
   "cell_type": "code",
   "execution_count": 19,
   "metadata": {},
   "outputs": [
    {
     "data": {
      "text/plain": [
       "<seaborn.axisgrid.PairGrid at 0x1c6f5082a90>"
      ]
     },
     "execution_count": 19,
     "metadata": {},
     "output_type": "execute_result"
    },
    {
     "data": {
      "image/png": "[encoded data removed]",
      "text/plain": [
       "<Figure size 360x360 with 6 Axes>"
      ]
     },
     "metadata": {
      "needs_background": "light"
     },
     "output_type": "display_data"
    }
   ],
   "source": [
    "# взаимосвязь доходности и популярности\n",
    "sns_plot = sns.pairplot(df_app[['Reviews', 'Installs']])\n",
    "sns_plot"
   ]
  },
  {
   "cell_type": "markdown",
   "metadata": {},
   "source": [
    "Из визуализации понимаем, что наибольшие доходы приносят не самые популярные приложения."
   ]
  },
  {
   "cell_type": "code",
   "execution_count": 35,
   "metadata": {},
   "outputs": [
    {
     "data": {
      "image/png": "[encoded data removed]",
      "text/plain": [
       "<Figure size 432x288 with 1 Axes>"
      ]
     },
     "metadata": {
      "needs_background": "light"
     },
     "output_type": "display_data"
    }
   ],
   "source": [
    "# рейтинги у наиболее широко представленных категорий приложений\n",
    "big_category = df_app.Category.value_counts().sort_values(ascending = False).head(5).index.values\n",
    "big_category\n",
    "ax = sns.boxplot(y=\"Category\", x=\"Rating\", data=df_app[df_app.Category.isin(big_category)], orient=\"h\")"
   ]
  },
  {
   "cell_type": "markdown",
   "metadata": {},
   "source": [
    "На графике представлены топ-5 категорий приложений с наиболее широкой линейкой и распределения рейтингов в этих категориях. Видим, что разброс значений во всех категориях в части высоких рейтингов, но у всех есть и низкие оценки. Категория \"Books_and_refence\" имеет минимальный разброс значений."
   ]
  },
  {
   "cell_type": "code",
   "execution_count": null,
   "metadata": {},
   "outputs": [],
   "source": []
  }
 ],
 "metadata": {
  "kernelspec": {
   "display_name": "Python 3",
   "language": "python",
   "name": "python3"
  },
  "language_info": {
   "codemirror_mode": {
    "name": "ipython",
    "version": 3
   },
   "file_extension": ".py",
   "mimetype": "text/x-python",
   "name": "python",
   "nbconvert_exporter": "python",
   "pygments_lexer": "ipython3",
   "version": "3.7.3"
  }
 },
 "nbformat": 4,
 "nbformat_minor": 2
}
